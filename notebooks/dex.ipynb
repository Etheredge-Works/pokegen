{
 "cells": [
  {
   "cell_type": "code",
   "execution_count": null,
   "metadata": {},
   "outputs": [],
   "source": [
    "import pandas as pd"
   ]
  },
  {
   "cell_type": "code",
   "execution_count": null,
   "metadata": {},
   "outputs": [],
   "source": [
    "df = pd.read_csv('data/external/pokedex_(Update_05.20).csv')"
   ]
  },
  {
   "cell_type": "code",
   "execution_count": null,
   "metadata": {},
   "outputs": [],
   "source": [
    "df.columns"
   ]
  },
  {
   "cell_type": "code",
   "execution_count": null,
   "metadata": {},
   "outputs": [],
   "source": [
    "df[df[name] == ''"
   ]
  },
  {
   "cell_type": "code",
   "execution_count": null,
   "metadata": {},
   "outputs": [],
   "source": [
    "def extract_ega(name):\n",
    "    # name = name.lower()\n",
    "    string = ''\n",
    "    if 'Mega' in name:\n",
    "        string += '-mega'\n",
    "    if 'Alolan' in name:\n",
    "        string += '-alola'\n",
    "    \n",
    "    if string:\n",
    "        if 'X' == name[-1]:\n",
    "            string += '-x'\n",
    "        if 'Y' == name[-1]:\n",
    "            string += '-y'\n",
    "    return string\n",
    "\n",
    "def filename(in_df):\n",
    "    filename = in_df['pokedex_number']\n",
    "    name = in_df['name']\n",
    "    print(name)\n",
    "    name = name.apply(extract_ega)\n",
    "    filename = filename.apply(lambda x: str(x))\n",
    "    filename += name\n",
    "\n",
    "    return filename+'.png'\n",
    "\n",
    "out_df = pd.DataFrame()\n",
    "out_df['filename'] = filename(df)\n",
    "out_df['type_1'] = df['type_1'].astype(\"category\")\n",
    "out_df['type_2'] = df['type_2'].astype(\"category\")\n",
    "out_df['status'] = df['status'].astype(\"category\")"
   ]
  },
  {
   "cell_type": "code",
   "execution_count": null,
   "metadata": {},
   "outputs": [],
   "source": [
    "\n",
    "out_df"
   ]
  },
  {
   "cell_type": "code",
   "execution_count": null,
   "metadata": {},
   "outputs": [],
   "source": [
    "from sklearn.preprocessing import OneHotEncoder\n",
    "enc = OneHotEncoder()\n",
    "enc.fit(out_df[['type_1', 'type_2', 'status']])\n",
    "out = enc.transform(out_df[['type_1', 'type_2', 'status']]).toarray()\n"
   ]
  },
  {
   "cell_type": "code",
   "execution_count": null,
   "metadata": {},
   "outputs": [],
   "source": [
    "out.shape"
   ]
  },
  {
   "cell_type": "code",
   "execution_count": null,
   "metadata": {},
   "outputs": [],
   "source": [
    "from src.data.sprites import PokemonDataset\n",
    "\n",
    "ds = PokemonDataset(\"data/external/sprites\", )"
   ]
  },
  {
   "cell_type": "code",
   "execution_count": null,
   "metadata": {},
   "outputs": [],
   "source": [
    "ds[1]\n"
   ]
  },
  {
   "cell_type": "code",
   "execution_count": null,
   "metadata": {},
   "outputs": [],
   "source": [
    "ds.files[0]"
   ]
  },
  {
   "cell_type": "code",
   "execution_count": null,
   "metadata": {},
   "outputs": [],
   "source": []
  }
 ],
 "metadata": {
  "kernelspec": {
   "display_name": "Python 3.8.13 64-bit",
   "language": "python",
   "name": "python3"
  },
  "language_info": {
   "codemirror_mode": {
    "name": "ipython",
    "version": 3
   },
   "file_extension": ".py",
   "mimetype": "text/x-python",
   "name": "python",
   "nbconvert_exporter": "python",
   "pygments_lexer": "ipython3",
   "version": "3.8.13"
  },
  "orig_nbformat": 4,
  "vscode": {
   "interpreter": {
    "hash": "949777d72b0d2535278d3dc13498b2535136f6dfe0678499012e853ee9abcab1"
   }
  }
 },
 "nbformat": 4,
 "nbformat_minor": 2
}
